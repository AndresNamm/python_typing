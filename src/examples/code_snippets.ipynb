{
 "metadata": {
  "language_info": {
   "codemirror_mode": {
    "name": "ipython",
    "version": 3
   },
   "file_extension": ".py",
   "mimetype": "text/x-python",
   "name": "python",
   "nbconvert_exporter": "python",
   "pygments_lexer": "ipython3",
   "version": "3.8.1-final"
  },
  "orig_nbformat": 2,
  "kernelspec": {
   "name": "python3",
   "display_name": "Python 3",
   "language": "python"
  }
 },
 "nbformat": 4,
 "nbformat_minor": 2,
 "cells": [
  {
   "source": [
    "# SNIPPETS"
   ],
   "cell_type": "markdown",
   "metadata": {}
  },
  {
   "source": [
    "\n",
    "Use enumerate when you need to run through a list and retrive each items index as well. This shows f-string formating as well"
   ],
   "cell_type": "markdown",
   "metadata": {}
  },
  {
   "cell_type": "code",
   "execution_count": null,
   "metadata": {},
   "outputs": [],
   "source": [
    "test_list = [\"one\",\"two\",\"three\"]\n",
    "for i,v in enumerate(test_list):\n",
    "    print(f\"on index {i} there is element {v}\")"
   ]
  },
  {
   "source": [
    "List comprehension"
   ],
   "cell_type": "markdown",
   "metadata": {}
  },
  {
   "cell_type": "code",
   "execution_count": null,
   "metadata": {},
   "outputs": [],
   "source": [
    "n = [i for i in range(100)]"
   ]
  },
  {
   "source": [],
   "cell_type": "markdown",
   "metadata": {}
  },
  {
   "cell_type": "code",
   "execution_count": null,
   "metadata": {},
   "outputs": [],
   "source": [
    "l1 = [1,2,3]\n",
    "l2 = [\"one\",\"two\",\"three\"]\n",
    "\n",
    "for i1, i2 in zip(l1,l2):\n",
    "    print(i1)\n",
    "    print(i2)"
   ]
  },
  {
   "cell_type": "code",
   "execution_count": null,
   "metadata": {},
   "outputs": [],
   "source": [
    "def foo():\n",
    "    return 1,2,3\n",
    "\n",
    "n,_,_ = foo()\n",
    "\n",
    "print(n)\n"
   ]
  },
  {
   "source": [
    "Dict, get, set, default values"
   ],
   "cell_type": "markdown",
   "metadata": {}
  },
  {
   "cell_type": "code",
   "execution_count": null,
   "metadata": {},
   "outputs": [],
   "source": [
    "d = {\"one\":1,\"two\":2}\n",
    "a = d.get(\"three\")\n",
    "print(a)\n",
    "\n"
   ]
  },
  {
   "cell_type": "code",
   "execution_count": null,
   "metadata": {},
   "outputs": [],
   "source": [
    "from collections import Counter\n",
    "\n",
    "mylist = [1,2,3,4,5,6,7,7]\n",
    "\n",
    "\n",
    "counter = Counter(mylist)\n",
    "print(counter)\n",
    "print(counter[1])\n",
    "print(counter.most_common(3))\n",
    "\n"
   ]
  },
  {
   "cell_type": "code",
   "execution_count": null,
   "metadata": {},
   "outputs": [],
   "source": [
    "d1 = {\"one\":1}\n",
    "d2 = {\"two\":2}\n",
    "d3 = {**d1,**d2}"
   ]
  },
  {
   "cell_type": "code",
   "execution_count": null,
   "metadata": {},
   "outputs": [],
   "source": [
    "\",\".join([\"hello\",\"world\"])"
   ]
  },
  {
   "cell_type": "code",
   "execution_count": null,
   "metadata": {},
   "outputs": [],
   "source": [
    "a = 1 \n",
    "b = 2 \n",
    "\n",
    "max_element = a if a>b else b \n",
    "\n",
    "print(max_element)"
   ]
  },
  {
   "cell_type": "code",
   "execution_count": null,
   "metadata": {},
   "outputs": [],
   "source": [
    "with open('../../test.txt') as f:\n",
    "    for line in f.readlines():\n",
    "        print(line)"
   ]
  },
  {
   "cell_type": "code",
   "execution_count": null,
   "metadata": {},
   "outputs": [],
   "source": [
    "dir(str)"
   ]
  },
  {
   "source": [
    "# PRACTICES "
   ],
   "cell_type": "markdown",
   "metadata": {}
  },
  {
   "source": [
    "https://github.com/codebasics/py/blob/master/TechTopics/CodingBestPractice"
   ],
   "cell_type": "markdown",
   "metadata": {}
  },
  {
   "source": [
    "Consistency\n",
    "+ If you use camelCase use it throughout the project. If you use under_scores use it throughout the project\n",
    "+ Use only \"\" or '' except when for some reason you need to use them together. \n",
    " "
   ],
   "cell_type": "markdown",
   "metadata": {}
  },
  {
   "cell_type": "code",
   "execution_count": null,
   "metadata": {},
   "outputs": [],
   "source": [
    "this_code_is_weird = 'True'\n",
    "howCoulImakeItBetter = \"I dont know\"\n"
   ]
  },
  {
   "source": [
    "Avoid using too many Variables"
   ],
   "cell_type": "markdown",
   "metadata": {}
  },
  {
   "cell_type": "code",
   "execution_count": 36,
   "metadata": {},
   "outputs": [],
   "source": [
    "def extract_phone_information(invoice,insurance):\n",
    "    phone = invoice.item\n",
    "    p = phone.price\n",
    "    m = phone.manufacturer\n",
    "    high_end_flag = False\n",
    "    if price > 1000 and manufacturer == 'apple':\n",
    "        high_end_flag=True\n",
    "    insr_active = False \n",
    "    if insurance_active == 1 :\n",
    "        insr_active = True \n",
    "    \n",
    "    phone_info = {'manufactrurer':m,\n",
    "    'price':p,\n",
    "    'is_high_end':high_end_flag,\n",
    "    'has_active_insurance':insr_active\n",
    "\n",
    "    }\n",
    "\n",
    "\n",
    "def extract_phone_informatione(invoice,insurance):\n",
    "    phone = invoice.item\n",
    "    return {\n",
    "        'manufactrurer':phone.manufacturer,\n",
    "        'price':phone.price,\n",
    "        'is_high_end':phone.price>1000 and phone.manufacturer=='apple',\n",
    "        'has_active_insurance':insurance.active == 1\n",
    "    }\n",
    "\n"
   ]
  },
  {
   "source": [
    "Avoid using shortened names. Inititally inside "
   ],
   "cell_type": "markdown",
   "metadata": {}
  },
  {
   "source": [
    "Dont be too clever. You will be angry at yourself later"
   ],
   "cell_type": "markdown",
   "metadata": {}
  },
  {
   "source": [
    "Functions "
   ],
   "cell_type": "markdown",
   "metadata": {}
  },
  {
   "cell_type": "code",
   "execution_count": null,
   "metadata": {},
   "outputs": [],
   "source": []
  },
  {
   "cell_type": "code",
   "execution_count": null,
   "metadata": {},
   "outputs": [],
   "source": []
  },
  {
   "source": [
    "String boolean\n",
    "    "
   ],
   "cell_type": "markdown",
   "metadata": {}
  },
  {
   "cell_type": "code",
   "execution_count": 1,
   "metadata": {},
   "outputs": [],
   "source": [
    "if \"\":\n",
    "    print(\"hello\")"
   ]
  },
  {
   "cell_type": "code",
   "execution_count": 2,
   "metadata": {},
   "outputs": [
    {
     "output_type": "stream",
     "name": "stdout",
     "text": [
      "hello\n"
     ]
    }
   ],
   "source": [
    "if \"h\":\n",
    "    print(\"hello\")"
   ]
  },
  {
   "source": [
    "lets try bug"
   ],
   "cell_type": "markdown",
   "metadata": {}
  },
  {
   "cell_type": "code",
   "execution_count": 6,
   "metadata": {},
   "outputs": [
    {
     "output_type": "error",
     "ename": "SyntaxError",
     "evalue": "invalid syntax (<ipython-input-6-cebdc2e7e372>, line 6)",
     "traceback": [
      "\u001b[0;36m  File \u001b[0;32m\"<ipython-input-6-cebdc2e7e372>\"\u001b[0;36m, line \u001b[0;32m6\u001b[0m\n\u001b[0;31m    global n=\"LAMBA\"\u001b[0m\n\u001b[0m            ^\u001b[0m\n\u001b[0;31mSyntaxError\u001b[0m\u001b[0;31m:\u001b[0m invalid syntax\n"
     ]
    }
   ],
   "source": [
    "n=\"SAMBA\"\n",
    "def lamp():\n",
    "    n=\"LAMBA\"\n",
    "\n",
    "def lamp2():\n",
    "    global n=\"LAMBA\"\n",
    "\n",
    "print(n)\n",
    "lamp()\n",
    "print(n)\n",
    "lamp2()\n",
    "print(n)"
   ]
  },
  {
   "cell_type": "code",
   "execution_count": null,
   "metadata": {},
   "outputs": [],
   "source": []
  }
 ]
}