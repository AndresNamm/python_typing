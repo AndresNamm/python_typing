{
 "cells": [
  {
   "cell_type": "code",
   "execution_count": 4,
   "metadata": {},
   "outputs": [],
   "source": [
    "def get_list_from_linked_list(p):\n",
    "    list_from_linked_list = []\n",
    "    while True:\n",
    "        list_from_linked_list.append(p.val)\n",
    "        p=p.next\n",
    "        if p is None:\n",
    "            break   \n",
    "    return list_from_linked_list"
   ]
  },
  {
   "cell_type": "code",
   "execution_count": 2,
   "metadata": {},
   "outputs": [],
   "source": [
    "# person_vs_comet.py\n",
    "from pydantic import BaseModel\n",
    "from typing import Optional,Any\n",
    "\n",
    "class ListNode(BaseModel):\n",
    "    val:int \n",
    "    next:Any\n",
    "        \n",
    "class Solution():\n",
    "    def swapPairs(self, A):\n",
    "        index = 1 \n",
    "        n_2 = A\n",
    "        # if A.next  is not None:\n",
    "        n_1 = A.next \n",
    "        # else:\n",
    "        #     return A \n",
    "        #if n_1.next is not None:\n",
    "        cur = n_1.next\n",
    "        print(n_2.val)\n",
    "        print(n_1.val)\n",
    "        print(cur.val)\n",
    "        head = n_1 \n",
    "        print\n",
    "        while True:\n",
    "            print(index)\n",
    "            if index%3==0:\n",
    "                print(cur.val)\n",
    "                n_1.next=n_2\n",
    "                n_2.next=cur\n",
    "            n_2=n_1\n",
    "            n_1=cur\n",
    "            cur=n_1.next\n",
    "            if cur is None:\n",
    "                break\n",
    "            index+=1\n",
    "        return head \n",
    "            "
   ]
  },
  {
   "cell_type": "code",
   "execution_count": 3,
   "metadata": {},
   "outputs": [
    {
     "ename": "NameError",
     "evalue": "name 'get_list_from_linked_list' is not defined",
     "output_type": "error",
     "traceback": [
      "\u001b[0;31m---------------------------------------------------------------------------\u001b[0m",
      "\u001b[0;31mNameError\u001b[0m                                 Traceback (most recent call last)",
      "\u001b[0;32m<ipython-input-3-a6568c56cb76>\u001b[0m in \u001b[0;36m<module>\u001b[0;34m\u001b[0m\n\u001b[1;32m     18\u001b[0m \u001b[0;34m\u001b[0m\u001b[0m\n\u001b[1;32m     19\u001b[0m \u001b[0;34m\u001b[0m\u001b[0m\n\u001b[0;32m---> 20\u001b[0;31m \u001b[0mlist_from_linked_list\u001b[0m \u001b[0;34m=\u001b[0m \u001b[0mget_list_from_linked_list\u001b[0m\u001b[0;34m(\u001b[0m\u001b[0mp\u001b[0m\u001b[0;34m)\u001b[0m\u001b[0;34m\u001b[0m\u001b[0;34m\u001b[0m\u001b[0m\n\u001b[0m\u001b[1;32m     21\u001b[0m \u001b[0mprint\u001b[0m\u001b[0;34m(\u001b[0m\u001b[0mA\u001b[0m\u001b[0;34m)\u001b[0m\u001b[0;34m\u001b[0m\u001b[0;34m\u001b[0m\u001b[0m\n\u001b[1;32m     22\u001b[0m \u001b[0mprint\u001b[0m\u001b[0;34m(\u001b[0m\u001b[0mlist_from_linked_list\u001b[0m\u001b[0;34m)\u001b[0m\u001b[0;34m\u001b[0m\u001b[0;34m\u001b[0m\u001b[0m\n",
      "\u001b[0;31mNameError\u001b[0m: name 'get_list_from_linked_list' is not defined"
     ]
    }
   ],
   "source": [
    "\n",
    "A=[28,34,48,74,42]\n",
    "\n",
    "start_buffer = 1\n",
    "prev = ListNode(val=A[-1],next=None)\n",
    "for i,v in enumerate(A[-2::-1]):\n",
    "    cur = ListNode(val=v,next=prev)\n",
    "    prev = cur\n",
    "\n",
    "\n",
    "p=cur\n",
    "\n",
    "\n",
    "list_from_linked_list = get_list_from_linked_list(p)\n",
    "print(A)\n",
    "print(list_from_linked_list)\n",
    "\n",
    "sol = Solution()\n",
    "res=sol.swapPairs(cur)\n",
    "swapped_list_from_linked_list = get_list_from_linked_list(res)\n",
    "\n",
    "print(swapped_list_from_linked_list)"
   ]
  },
  {
   "cell_type": "code",
   "execution_count": 40,
   "metadata": {},
   "outputs": [
    {
     "name": "stdout",
     "output_type": "stream",
     "text": [
      "28\n"
     ]
    }
   ],
   "source": [
    "print(cur.val)"
   ]
  },
  {
   "cell_type": "code",
   "execution_count": null,
   "metadata": {},
   "outputs": [],
   "source": []
  },
  {
   "cell_type": "code",
   "execution_count": 29,
   "metadata": {},
   "outputs": [
    {
     "name": "stdout",
     "output_type": "stream",
     "text": [
      "name='Tarmo' age=28 next=Person(name='Andres', age=28, next=Person(name='Martin', age=27, next=Person(name='Jaanus', age=30, next=None)))\n",
      "name='Andres' age=28 next=Person(name='Martin', age=27, next=Person(name='Jaanus', age=30, next=None))\n",
      "name='Martin' age=27 next=Person(name='Jaanus', age=30, next=None)\n"
     ]
    }
   ],
   "source": [
    "n_2 = p0\n",
    "n_1 = p0.next\n",
    "cur = n_1.next\n",
    "print(n_2)\n",
    "print(n_1)\n",
    "print(cur)"
   ]
  },
  {
   "cell_type": "code",
   "execution_count": 30,
   "metadata": {},
   "outputs": [
    {
     "name": "stdout",
     "output_type": "stream",
     "text": [
      "name='Andres' age=28 next=Person(name='Martin', age=27, next=Person(name='Jaanus', age=30, next=None))\n",
      "name='Martin' age=27 next=Person(name='Jaanus', age=30, next=None)\n",
      "name='Jaanus' age=30 next=None\n"
     ]
    }
   ],
   "source": [
    "n_2 = n_1\n",
    "n_1 = cur\n",
    "cur = cur.next\n",
    "print(n_2)\n",
    "print(n_1)\n",
    "print(cur)"
   ]
  },
  {
   "cell_type": "code",
   "execution_count": 25,
   "metadata": {},
   "outputs": [
    {
     "name": "stdout",
     "output_type": "stream",
     "text": [
      "name='Martin' age=27 next=Person(name='Jaanus', age=30, next=None)\n"
     ]
    }
   ],
   "source": []
  }
 ],
 "metadata": {
  "kernelspec": {
   "display_name": "Python 3",
   "language": "python",
   "name": "python3"
  },
  "toc": {
   "base_numbering": 1,
   "nav_menu": {},
   "number_sections": true,
   "sideBar": true,
   "skip_h1_title": false,
   "title_cell": "Table of Contents",
   "title_sidebar": "Contents",
   "toc_cell": false,
   "toc_position": {},
   "toc_section_display": true,
   "toc_window_display": false
  }
 },
 "nbformat": 4,
 "nbformat_minor": 2
}
